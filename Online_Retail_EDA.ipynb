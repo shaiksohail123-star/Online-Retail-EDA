{
 "cells": [
  {
   "cell_type": "markdown",
   "id": "299edc9e",
   "metadata": {},
   "source": [
    "# Online Retail Dataset - Exploratory Data Analysis"
   ]
  },
  {
   "cell_type": "markdown",
   "id": "96c9dd9e",
   "metadata": {},
   "source": [
    "**Author:** Shaik Sohail\n",
    "\n",
    "This notebook performs Exploratory Data Analysis (EDA) on the Online Retail dataset. It covers data cleaning, visualization, and business insights."
   ]
  },
  {
   "cell_type": "code",
   "execution_count": null,
   "id": "d31c642c",
   "metadata": {},
   "outputs": [],
   "source": [
    "\n",
    "# Import necessary libraries\n",
    "import pandas as pd\n",
    "import matplotlib.pyplot as plt\n",
    "import seaborn as sns\n",
    "\n",
    "# Set styles\n",
    "sns.set(style=\"whitegrid\")\n"
   ]
  },
  {
   "cell_type": "markdown",
   "id": "deec9dab",
   "metadata": {},
   "source": [
    "## Load Dataset"
   ]
  },
  {
   "cell_type": "code",
   "execution_count": null,
   "id": "f9638c91",
   "metadata": {},
   "outputs": [],
   "source": [
    "\n",
    "# Load the dataset\n",
    "df = pd.read_csv(\"OnlineRetail.csv\", encoding=\"ISO-8859-1\")\n",
    "df.head()\n"
   ]
  },
  {
   "cell_type": "markdown",
   "id": "339db59c",
   "metadata": {},
   "source": [
    "## Data Inspection"
   ]
  },
  {
   "cell_type": "code",
   "execution_count": null,
   "id": "6e932e45",
   "metadata": {},
   "outputs": [],
   "source": [
    "\n",
    "# Basic info\n",
    "df.info()\n",
    "df.describe()\n"
   ]
  },
  {
   "cell_type": "markdown",
   "id": "124fa468",
   "metadata": {},
   "source": [
    "## Data Cleaning"
   ]
  },
  {
   "cell_type": "code",
   "execution_count": null,
   "id": "f00dfcd2",
   "metadata": {},
   "outputs": [],
   "source": [
    "\n",
    "# Drop rows with missing CustomerID\n",
    "df = df.dropna(subset=[\"CustomerID\"])\n",
    "\n",
    "# Remove negative or zero Quantity and UnitPrice\n",
    "df = df[(df[\"Quantity\"] > 0) & (df[\"UnitPrice\"] > 0)]\n",
    "\n",
    "# Convert InvoiceDate to datetime\n",
    "df[\"InvoiceDate\"] = pd.to_datetime(df[\"InvoiceDate\"])\n",
    "\n",
    "# Add TotalPrice column\n",
    "df[\"TotalPrice\"] = df[\"Quantity\"] * df[\"UnitPrice\"]\n",
    "\n",
    "df.head()\n"
   ]
  },
  {
   "cell_type": "markdown",
   "id": "2c80da46",
   "metadata": {},
   "source": [
    "## Top 10 Products by Quantity Sold"
   ]
  },
  {
   "cell_type": "code",
   "execution_count": null,
   "id": "1a9a8f8f",
   "metadata": {},
   "outputs": [],
   "source": [
    "\n",
    "top_products = df.groupby(\"Description\")[\"Quantity\"].sum().sort_values(ascending=False).head(10)\n",
    "plt.figure(figsize=(10,6))\n",
    "sns.barplot(x=top_products.values, y=top_products.index, palette=\"viridis\")\n",
    "plt.title(\"Top 10 Products by Quantity Sold\")\n",
    "plt.xlabel(\"Quantity Sold\")\n",
    "plt.ylabel(\"Product Description\")\n",
    "plt.show()\n"
   ]
  },
  {
   "cell_type": "markdown",
   "id": "7f3282dd",
   "metadata": {},
   "source": [
    "## Top 10 Countries by Revenue"
   ]
  },
  {
   "cell_type": "code",
   "execution_count": null,
   "id": "9af9dc29",
   "metadata": {},
   "outputs": [],
   "source": [
    "\n",
    "top_countries = df.groupby(\"Country\")[\"TotalPrice\"].sum().sort_values(ascending=False).head(10)\n",
    "plt.figure(figsize=(10,6))\n",
    "sns.barplot(x=top_countries.values, y=top_countries.index, palette=\"coolwarm\")\n",
    "plt.title(\"Top 10 Countries by Revenue\")\n",
    "plt.xlabel(\"Revenue\")\n",
    "plt.ylabel(\"Country\")\n",
    "plt.show()\n"
   ]
  },
  {
   "cell_type": "markdown",
   "id": "cc0d5853",
   "metadata": {},
   "source": [
    "## Monthly Revenue Trend"
   ]
  },
  {
   "cell_type": "code",
   "execution_count": null,
   "id": "f6d87ffe",
   "metadata": {},
   "outputs": [],
   "source": [
    "\n",
    "df[\"Month\"] = df[\"InvoiceDate\"].dt.to_period(\"M\")\n",
    "monthly_revenue = df.groupby(\"Month\")[\"TotalPrice\"].sum()\n",
    "\n",
    "plt.figure(figsize=(12,6))\n",
    "monthly_revenue.plot(kind=\"line\", marker=\"o\")\n",
    "plt.title(\"Monthly Revenue Trend\")\n",
    "plt.xlabel(\"Month\")\n",
    "plt.ylabel(\"Revenue\")\n",
    "plt.show()\n"
   ]
  },
  {
   "cell_type": "markdown",
   "id": "8dc74ccf",
   "metadata": {},
   "source": [
    "## Business Insights"
   ]
  },
  {
   "cell_type": "markdown",
   "id": "db21bfe6",
   "metadata": {},
   "source": [
    "\n",
    "- United Kingdom is the largest market, followed by other European countries.  \n",
    "- A small number of products contribute to the majority of sales.  \n",
    "- Certain inexpensive products are sold in very high volumes.  \n",
    "- Monthly trends reveal seasonality in purchasing patterns.  \n"
   ]
  },
  {
   "cell_type": "markdown",
   "id": "38b09f7b",
   "metadata": {},
   "source": [
    "## Conclusion"
   ]
  },
  {
   "cell_type": "markdown",
   "id": "64e3067f",
   "metadata": {},
   "source": [
    "This analysis highlights key products, customers, and countries that drive revenue. Businesses can leverage these insights to optimize inventory, marketing, and sales strategies."
   ]
  }
 ],
 "metadata": {},
 "nbformat": 4,
 "nbformat_minor": 5
}
